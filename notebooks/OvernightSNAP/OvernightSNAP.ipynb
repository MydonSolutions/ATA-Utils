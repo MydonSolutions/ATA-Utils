{
 "cells": [
  {
   "cell_type": "code",
   "execution_count": 1,
   "metadata": {},
   "outputs": [],
   "source": [
    "# Program to read in pkl files containing data from a long\n",
    "# obseration with the SNAPs at the ATA. This example shows \n",
    "# processing three antennas, 6 pols, and the data. Edit the \n",
    "# code to fit your needs.\n",
    "#\n",
    "# Author: Jon Richards, SETI Institute\n",
    "# Date: June 28, 2019\n",
    "#"
   ]
  },
  {
   "cell_type": "code",
   "execution_count": 2,
   "metadata": {},
   "outputs": [],
   "source": [
    "import sys\n",
    "import os\n",
    "import glob\n",
    "import pickle\n",
    "import numpy as np, scipy.io\n",
    "import math\n",
    "from pylab import rcParams\n",
    "import pylab as plt\n",
    "import matplotlib.dates as mdates\n",
    "from datetime import datetime"
   ]
  },
  {
   "cell_type": "code",
   "execution_count": 3,
   "metadata": {},
   "outputs": [],
   "source": [
    "# Define the ants to use\n",
    "ant1 = '2j'\n",
    "ant2 = '4j'\n",
    "ant3 = '5c'\n",
    "\n",
    "#Define your data and output images directory\n",
    "data_dir = \"./data\" # Copy the pkl data files into here\n",
    "images_dir = \"./images\""
   ]
  },
  {
   "cell_type": "code",
   "execution_count": 4,
   "metadata": {},
   "outputs": [
    {
     "name": "stdout",
     "output_type": "stream",
     "text": [
      "There are 0 files to process.\n"
     ]
    }
   ],
   "source": [
    "# Get the list of files\n",
    "\n",
    "file_list1 = glob.glob(data_dir + \"/*\" + ant1 + \"*.pkl\")\n",
    "file_list1.sort() # The first field is the timestamp, order by time\n",
    "file_list2 = glob.glob(data_dir + \"/*\" + ant2 + \"*.pkl\")\n",
    "file_list2.sort() # The first field is the timestamp, order by time\n",
    "file_list3 = glob.glob(data_dir + \"/*\" + ant3 + \"*.pkl\")\n",
    "file_list3.sort() # The first field is the timestamp, order by time\n",
    "\n",
    "print(\"There are %d files to process.\" % (len(file_list1) + len(file_list2) + len(file_list3)))\n",
    "#for fname in file_list1:\n",
    "#    print(fname)\n",
    "#for fname in file_list2:\n",
    "#    print(fname)\n",
    "#for fname in file_list3:\n",
    "#    print(fname)"
   ]
  },
  {
   "cell_type": "code",
   "execution_count": 5,
   "metadata": {},
   "outputs": [],
   "source": [
    "#Creat the lists to store the data\n",
    "power1_x = list()\n",
    "power1_y = list()\n",
    "power2_x = list()\n",
    "power2_y = list()\n",
    "power3_x = list()\n",
    "power3_y = list()\n",
    "\n",
    "#This is a list of times for each data point, read in \n",
    "#from the first set of file.\n",
    "times = list()"
   ]
  },
  {
   "cell_type": "code",
   "execution_count": 6,
   "metadata": {
    "scrolled": true
   },
   "outputs": [
    {
     "name": "stdout",
     "output_type": "stream",
     "text": [
      "Reading in data - this takes a while if you have a lot of files...\n",
      "Reading in data - Finished\n",
      "(0, 0)\n",
      "(0, 0)\n",
      "(0, 0)\n"
     ]
    }
   ],
   "source": [
    "#Read in the data\n",
    "\n",
    "print(\"Reading in data - this takes a while if you have a lot of files...\")\n",
    "\n",
    "for fname in file_list1:\n",
    "    \n",
    "    print(\"Processing file: \" + fname)\n",
    "    \n",
    "    f = open(fname,'r')\n",
    "    data = pickle.load(f)\n",
    "    \n",
    "    # Create one big list of unix timestamps for each data point\n",
    "    times.extend(data['auto0_timestamp'])\n",
    "\n",
    "    for d in data['auto0']:\n",
    "        power1_x.append(np.median(10*np.log10(d[768:1700])))\n",
    "        \n",
    "    for d in data['auto1']:\n",
    "        power1_y.append(np.median(10*np.log10(d[768:1700])))\n",
    "        \n",
    "for fname in file_list2:\n",
    "    \n",
    "    print(\"Processing file: \" + fname)\n",
    "    \n",
    "    f = open(fname,'r')\n",
    "    data = pickle.load(f)\n",
    "    \n",
    "    for d in data['auto0']:\n",
    "        power2_x.append(np.median(10*np.log10(d[768:1700])))\n",
    "\n",
    "    for d in data['auto1']:\n",
    "        power2_y.append(np.median(10*np.log10(d[768:1700])))\n",
    "        \n",
    "for fname in file_list3:\n",
    "    \n",
    "    print(\"Processing file: \" + fname)\n",
    "    \n",
    "    f = open(fname,'r')\n",
    "    data = pickle.load(f)\n",
    "    \n",
    "    for d in data['auto0']:\n",
    "        power3_x.append(np.median(10*np.log10(d[768:1700])))\n",
    "    for d in data['auto1']:\n",
    "        power3_y.append(np.median(10*np.log10(d[768:1700])))\n",
    "        \n",
    "print(\"Reading in data - Finished\")\n",
    "\n",
    "#For sanity, print out how many data points there are\n",
    "#for each pol. They should all be the same.\n",
    "print(len(power1_x),len(power1_y))\n",
    "print(len(power2_x),len(power2_y))\n",
    "print(len(power3_x),len(power3_y))\n",
    "\n",
    "\n",
    "    "
   ]
  },
  {
   "cell_type": "code",
   "execution_count": 7,
   "metadata": {
    "scrolled": true
   },
   "outputs": [
    {
     "data": {
      "image/png": "[encoded data removed]",
      "text/plain": [
       "<Figure size 1440x432 with 1 Axes>"
      ]
     },
     "metadata": {},
     "output_type": "display_data"
    }
   ],
   "source": [
    "#Convert the list of times from unix timestamp to Datetime objects.\n",
    "timesd = list()\n",
    "for ts in times:\n",
    "    timesd.append(datetime.fromtimestamp(int(ts)))\n",
    "times = timesd\n",
    "rcParams['figure.figsize'] = 20, 6\n",
    "\n",
    "plt.plot(timesd, power1_x, c='#cc0000', label='North X pol (2j)')\n",
    "plt.plot(timesd, power1_y, c='#0000ff', label='North Y pol (2j)')\n",
    "plt.plot(timesd, power2_x, c='#39ff14', label='3c380 X pol (4j)')\n",
    "plt.plot(timesd, power2_y, c='#00cccc', label='3c380 Y pol (4j)')\n",
    "plt.plot(timesd, power3_x, c='#000000', label='North X pol (5c)')\n",
    "plt.plot(timesd, power3_y, c='#dd88aa', label='North Y pol (5c)')\n",
    "\n",
    "plt.legend()\n",
    "\n",
    "#If you want to create an image file...\n",
    "#plt.savefig(images_dir + '/pic.png')\n",
    "\n",
    "plt.show()"
   ]
  },
  {
   "cell_type": "code",
   "execution_count": null,
   "metadata": {},
   "outputs": [],
   "source": []
  }
 ],
 "metadata": {
  "kernelspec": {
   "display_name": "Python 2",
   "language": "python",
   "name": "python2"
  },
  "language_info": {
   "codemirror_mode": {
    "name": "ipython",
    "version": 2
   },
   "file_extension": ".py",
   "mimetype": "text/x-python",
   "name": "python",
   "nbconvert_exporter": "python",
   "pygments_lexer": "ipython2",
   "version": "2.7.16"
  }
 },
 "nbformat": 4,
 "nbformat_minor": 2
}
